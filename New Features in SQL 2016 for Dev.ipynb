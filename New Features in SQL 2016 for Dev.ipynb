{
 "cells": [
  {
   "cell_type": "markdown",
   "metadata": {},
   "source": [
    "# [What's New](https://docs.microsoft.com/en-us/sql/index?toc=%2Fsql%2Ftoc.json)"
   ]
  },
  {
   "cell_type": "markdown",
   "metadata": {},
   "source": [
    "# 1. Query Store"
   ]
  },
  {
   "cell_type": "markdown",
   "metadata": {},
   "source": [
    "### > DMV: over time, entire history of performance;\n",
    "\n",
    "- Top Res\n",
    "\n",
    "- Regressed Query\n",
    "\n",
    "- Overall Res Comp\n",
    "\n",
    "- Query with high Variation\n",
    "\n",
    "- Track query"
   ]
  },
  {
   "cell_type": "markdown",
   "metadata": {},
   "source": [
    "# 2. Pool blocking Period\n",
    "\n",
    "## For Azure -> in C#, with properties AlwaysBlock, Auto and NeverBlock;"
   ]
  },
  {
   "cell_type": "markdown",
   "metadata": {},
   "source": [
    "# 3. [STRING_SPLIT](https://docs.microsoft.com/en-us/sql/t-sql/functions/string-split-transact-sql)\n",
    "\n"
   ]
  },
  {
   "cell_type": "markdown",
   "metadata": {},
   "source": [
    "### SELECT * From STRING_SPLIT(@theString, ' ')\n",
    "\n",
    "- ### Use it with cross apply"
   ]
  },
  {
   "cell_type": "markdown",
   "metadata": {},
   "source": [
    "# 4. Create or Alter"
   ]
  },
  {
   "cell_type": "markdown",
   "metadata": {},
   "source": [
    "## Create or Alter view/func/Triggers/Sproc ..."
   ]
  },
  {
   "cell_type": "markdown",
   "metadata": {},
   "source": [
    "# 5. Json Support"
   ]
  },
  {
   "cell_type": "markdown",
   "metadata": {},
   "source": [
    "## relational <=> json"
   ]
  },
  {
   "cell_type": "markdown",
   "metadata": {},
   "source": [
    "## 1) Converting relational to JSON"
   ]
  },
  {
   "cell_type": "markdown",
   "metadata": {},
   "source": [
    "- ## Select ... For Json{AUTO|Path}\n",
    "\n",
    "    - ### Auto: format result in JSON\n",
    "    \n",
    "    - ### Path: More control on the structure of JSON"
   ]
  },
  {
   "cell_type": "markdown",
   "metadata": {},
   "source": [
    "## 2) Decryption Transparent to Application"
   ]
  },
  {
   "cell_type": "markdown",
   "metadata": {},
   "source": [
    "- ## Select ... From OpenJSON(...)"
   ]
  },
  {
   "cell_type": "markdown",
   "metadata": {},
   "source": [
    "## 3) Encryption types\n",
    "\n",
    "- ### isJSON\n",
    "\n",
    "- ### JSON_VALUE,\n",
    "\n",
    "- ### JSON_Query,\n",
    "\n",
    "- ### JSON_Modify"
   ]
  },
  {
   "cell_type": "markdown",
   "metadata": {},
   "source": [
    "# 6. .NET Core"
   ]
  },
  {
   "cell_type": "markdown",
   "metadata": {},
   "source": [
    "## Github\n",
    "\n",
    "## Open Source\n",
    "\n",
    "## Wins, macOS/OS X, Linux"
   ]
  },
  {
   "cell_type": "markdown",
   "metadata": {},
   "source": [
    "- ### .NETCoreApp 1.1"
   ]
  },
  {
   "cell_type": "markdown",
   "metadata": {},
   "source": [
    "## server, right click -> reports -> Standard Reports -> Activity - All Sessions: Check .NETCore is connected or not;"
   ]
  },
  {
   "cell_type": "markdown",
   "metadata": {},
   "source": [
    "# 7. Entity Framework Core(Github)"
   ]
  },
  {
   "cell_type": "markdown",
   "metadata": {},
   "source": [
    "## More database providers, allow customized version"
   ]
  },
  {
   "cell_type": "markdown",
   "metadata": {},
   "source": [
    "# 8. In Memory OLTP"
   ]
  },
  {
   "cell_type": "markdown",
   "metadata": {},
   "source": [
    "## Memory - Optimized tables\n",
    "\n",
    "## Some Limits are removed "
   ]
  },
  {
   "cell_type": "markdown",
   "metadata": {},
   "source": [
    "- ## Scalability\n",
    "\n",
    "    - ### No size limit\n",
    "    \n",
    "    - ### Multithreaded persistence (more quickly to disk)\n",
    "    \n",
    "    - ### Parallel plans\n",
    "    \n",
    "    - ### Parallel table scan\n",
    "    \n",
    "- ## Queries\n",
    "\n",
    "    - ### Select\n",
    "    \n",
    "        - ### OR, NOT\n",
    "        \n",
    "        - ### UNION\n",
    "        \n",
    "        - ### Select Distinct\n",
    "        \n",
    "        - ### Outer Join\n",
    "        \n",
    "        - ### Subqueries: Exists, IN...\n",
    "        \n",
    "    - ### Natively compile inline table-valued functions;"
   ]
  },
  {
   "cell_type": "markdown",
   "metadata": {},
   "source": [
    "- ## Memory-Optimized tables now support\n",
    "\n",
    "    - ### Index key columns with NUll\n",
    "    \n",
    "    - ### UNIQUE indexes\n",
    "    \n",
    "    - ### FOREIGN KEY constraints\n",
    "    \n",
    "    - ### Check and Unique constraints"
   ]
  },
  {
   "cell_type": "markdown",
   "metadata": {},
   "source": [
    "- ## Alter table\n",
    "\n",
    "    - ### Support for schema changes\n",
    "    \n",
    "        - ### ADD/ALTER/DROP columns\n",
    "        \n",
    "    - ### Support for Index\n",
    "    \n",
    "        - ### ALTER INDEX ... REBUILD..."
   ]
  },
  {
   "cell_type": "markdown",
   "metadata": {},
   "source": [
    "- ### Natively Compiled\n",
    "\n",
    "    - ### Alter Procedure\n",
    "    \n",
    "        - ### With NATIVE_COMPILATION\n",
    "        \n",
    "        - ### Scalar UDFs\n",
    "        \n",
    "- ### Combining Memory Optimized Tables\n",
    "\n",
    "    - ### Temporal table (sys-version table)\n",
    "    \n",
    "    - ### Query store\n",
    "    \n",
    "    - ### RLS\n",
    "    \n",
    "    - ### Multiple Active Result Sets(MARS)\n",
    "    \n",
    "    - ### Transparent Data Encrption(TDE)"
   ]
  },
  {
   "cell_type": "markdown",
   "metadata": {},
   "source": [
    "# 9. Operational Analytics (DW)"
   ]
  },
  {
   "cell_type": "markdown",
   "metadata": {},
   "source": [
    "- ## Updatable nonclustered Column Stored indexes\n",
    "\n",
    "- ## Clustered Column Stored indexes\n",
    "\n",
    "- ## Reconsider building out ETL infrastructure"
   ]
  },
  {
   "cell_type": "markdown",
   "metadata": {},
   "source": [
    "# 10. [xEvent Linq Reader](https://blogs.msdn.microsoft.com/psssql/2016/05/18/sql-2016-it-just-runs-faster-xevent-linq-reader/)"
   ]
  },
  {
   "cell_type": "markdown",
   "metadata": {},
   "source": [
    "### underline code used to SSMS and external apps connect to stream data coming out of external event sys"
   ]
  },
  {
   "cell_type": "markdown",
   "metadata": {},
   "source": [
    "### Management -> Sessions -> All Queries \n",
    "\n",
    "### C#, Microsoft.SqlServer.XEvent.Linq"
   ]
  }
 ],
 "metadata": {
  "kernelspec": {
   "display_name": "Python 2",
   "language": "python",
   "name": "python2"
  },
  "language_info": {
   "codemirror_mode": {
    "name": "ipython",
    "version": 2
   },
   "file_extension": ".py",
   "mimetype": "text/x-python",
   "name": "python",
   "nbconvert_exporter": "python",
   "pygments_lexer": "ipython2",
   "version": "2.7.14"
  }
 },
 "nbformat": 4,
 "nbformat_minor": 2
}
